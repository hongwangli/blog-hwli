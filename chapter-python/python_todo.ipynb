{
 "cells": [
  {
   "cell_type": "markdown",
   "metadata": {},
   "source": [
    "pandas 切片索引\n",
    "https://www.zybuluo.com/jk88876594/note/837142\n",
    "https://www.yiibai.com/pandas/python_pandas_indexing_and_selecting_data.html\n",
    "\n",
    "\n",
    "pandas 分组聚合\n",
    "https://www.jianshu.com/p/4345878fb316\n",
    "\n",
    "pands merge，join， concate\n",
    "\n",
    "\n",
    "numpy 数组创建\n",
    "http://www.zmonster.me/2016/02/25/creation-and-io-of-ndarray.html\n"
   ]
  },
  {
   "cell_type": "code",
   "execution_count": null,
   "metadata": {},
   "outputs": [],
   "source": []
  }
 ],
 "metadata": {
  "kernelspec": {
   "display_name": "Python 3",
   "language": "python",
   "name": "python3"
  },
  "language_info": {
   "codemirror_mode": {
    "name": "ipython",
    "version": 3
   },
   "file_extension": ".py",
   "mimetype": "text/x-python",
   "name": "python",
   "nbconvert_exporter": "python",
   "pygments_lexer": "ipython3",
   "version": "3.6.5"
  },
  "toc": {
   "base_numbering": 1,
   "nav_menu": {},
   "number_sections": true,
   "sideBar": true,
   "skip_h1_title": false,
   "title_cell": "Table of Contents",
   "title_sidebar": "Contents",
   "toc_cell": false,
   "toc_position": {},
   "toc_section_display": true,
   "toc_window_display": false
  }
 },
 "nbformat": 4,
 "nbformat_minor": 2
}

{
 "cells": [
  {
   "cell_type": "markdown",
   "metadata": {},
   "source": [
    "# python切片操作\n",
    "\n",
    "- 通过slice类实现，slice(start, stop[, step])  选择范围：[start, stop) 左闭右开\n",
    "索引和切片都用[],方法用()\n"
   ]
  },
  {
   "cell_type": "code",
   "execution_count": 34,
   "metadata": {
    "ExecuteTime": {
     "end_time": "2018-06-01T14:34:42.528711Z",
     "start_time": "2018-06-01T14:34:42.523474Z"
    }
   },
   "outputs": [
    {
     "name": "stdout",
     "output_type": "stream",
     "text": [
      "使用 slice 类实现 :\n",
      " [2, 4]\n",
      "使用 ':' 实现: \n",
      " [2, 4]\n"
     ]
    }
   ],
   "source": [
    "L = [0,1,2,3,4,5,6,7,8,9]\n",
    "print('使用 slice 类实现 :\\n', L[slice(2,5,2)])\n",
    "print(\"使用 ':' 实现: \\n\", L[2:5:2])"
   ]
  },
  {
   "cell_type": "markdown",
   "metadata": {},
   "source": [
    "## list，tuple中的切片"
   ]
  },
  {
   "cell_type": "markdown",
   "metadata": {},
   "source": [
    "- 如果第一个索引是0，还可以省略, 到最后一个也可以省略，步长默认1"
   ]
  },
  {
   "cell_type": "code",
   "execution_count": 33,
   "metadata": {
    "ExecuteTime": {
     "end_time": "2018-06-01T14:18:53.577247Z",
     "start_time": "2018-06-01T14:18:53.573439Z"
    }
   },
   "outputs": [
    {
     "name": "stdout",
     "output_type": "stream",
     "text": [
      "起始位置为0，可以省略： [0, 1, 2]\n",
      "终止位置最后一个，可以省略： [3, 4, 5, 6, 7, 8, 9]\n"
     ]
    }
   ],
   "source": [
    "print('起始位置为0，可以省略：',L[:3])\n",
    "print('终止位置最后一个，可以省略：',L[3:])"
   ]
  },
  {
   "cell_type": "markdown",
   "metadata": {},
   "source": [
    "- 倒数索引-1代表最后一个位置索引，-2代表倒数第二个索引"
   ]
  },
  {
   "cell_type": "code",
   "execution_count": 26,
   "metadata": {
    "ExecuteTime": {
     "end_time": "2018-06-01T14:14:16.764161Z",
     "start_time": "2018-06-01T14:14:16.759248Z"
    }
   },
   "outputs": [
    {
     "name": "stdout",
     "output_type": "stream",
     "text": [
      "开始位置到倒数第二个： [0, 1, 2, 3, 4, 5, 6, 7]\n",
      "倒数第二个位置到最后： [8, 9]\n"
     ]
    }
   ],
   "source": [
    "print('开始位置到倒数第二个：',L[:-2])\n",
    "print('倒数第二个位置到最后：', L[-2:])"
   ]
  },
  {
   "cell_type": "markdown",
   "metadata": {},
   "source": [
    "- 步长设置, 默认1，可以自定义"
   ]
  },
  {
   "cell_type": "code",
   "execution_count": 32,
   "metadata": {
    "ExecuteTime": {
     "end_time": "2018-06-01T14:15:44.575238Z",
     "start_time": "2018-06-01T14:15:44.570836Z"
    }
   },
   "outputs": [
    {
     "name": "stdout",
     "output_type": "stream",
     "text": [
      "设定步长-2： [9, 7]\n",
      "起始位置到终止位置步长为2： [0, 2, 4, 6, 8]\n"
     ]
    }
   ],
   "source": [
    "print('设定步长-2：', L[-1:-5:-2])\n",
    "print('起始位置到终止位置步长为2：',L[::2])"
   ]
  },
  {
   "cell_type": "markdown",
   "metadata": {},
   "source": [
    "## Numpy中的切片操作"
   ]
  },
  {
   "cell_type": "markdown",
   "metadata": {
    "ExecuteTime": {
     "end_time": "2018-06-01T13:35:28.944315Z",
     "start_time": "2018-06-01T13:35:28.939525Z"
    }
   },
   "source": [
    "### numpy中的一维数组切片\n",
    "- Numpy 中多维数组的切片操作与 Python 中 list 的切片操作一样，同样由 start, stop, step 三个部分组成\n"
   ]
  },
  {
   "cell_type": "code",
   "execution_count": 4,
   "metadata": {
    "ExecuteTime": {
     "end_time": "2018-06-01T13:35:38.823389Z",
     "start_time": "2018-06-01T13:35:38.815167Z"
    }
   },
   "outputs": [
    {
     "name": "stdout",
     "output_type": "stream",
     "text": [
      "array is: [ 0  1  2  3  4  5  6  7  8  9 10 11]\n",
      "slice begins at 0 and ends at 4 is: [0 1 2 3]\n",
      "slice begins at 7 and ends at 10 is: [7 8 9]\n",
      "slice begins at 0 and ends at 12 with step 4 is: [0 4 8]\n"
     ]
    }
   ],
   "source": [
    "\n",
    "import numpy as np\n",
    "\n",
    "arr = np.arange(12)\n",
    "print('array is:', arr)\n",
    "\n",
    "slice_one = arr[:4]\n",
    "print('slice begins at 0 and ends at 4 is:', slice_one)\n",
    "\n",
    "slice_two = arr[7:10]\n",
    "print('slice begins at 7 and ends at 10 is:', slice_two)\n",
    "\n",
    "slice_three = arr[0:12:4]\n",
    "print('slice begins at 0 and ends at 12 with step 4 is:', slice_three)\n",
    "\n",
    "\n"
   ]
  },
  {
   "cell_type": "markdown",
   "metadata": {
    "ExecuteTime": {
     "end_time": "2018-06-01T13:38:25.217756Z",
     "start_time": "2018-06-01T13:38:25.214213Z"
    }
   },
   "source": [
    "### numpy 多维数组\n",
    "- 上述例子是一维数组的例子，如果是多维数组，将不同维度上的切片操作用 逗号 分开就好了"
   ]
  },
  {
   "cell_type": "code",
   "execution_count": 7,
   "metadata": {
    "ExecuteTime": {
     "end_time": "2018-06-01T13:40:33.645170Z",
     "start_time": "2018-06-01T13:40:33.638135Z"
    }
   },
   "outputs": [
    {
     "name": "stdout",
     "output_type": "stream",
     "text": [
      "array is:\n",
      " [[ 0  1  2  3]\n",
      " [ 4  5  6  7]\n",
      " [ 8  9 10 11]]\n",
      "first slice is:\n",
      " [[5 6]]\n",
      "second slice is:\n",
      " [[ 0  2]\n",
      " [ 4  6]\n",
      " [ 8 10]]\n"
     ]
    }
   ],
   "source": [
    "import numpy as np\n",
    "\n",
    "arr = np.arange(12).reshape((3, 4))\n",
    "print ('array is:\\n', arr)\n",
    "\n",
    "slice_one = arr[1:2, 1:3]\n",
    "print('first slice is:\\n', slice_one)\n",
    "\n",
    "slice_two = arr[:, ::2]\n",
    "print('second slice is:\\n',slice_two)\n"
   ]
  },
  {
   "cell_type": "markdown",
   "metadata": {},
   "source": [
    "## Pandas中的切片操作"
   ]
  }
 ],
 "metadata": {
  "kernelspec": {
   "display_name": "Python 3",
   "language": "python",
   "name": "python3"
  },
  "language_info": {
   "codemirror_mode": {
    "name": "ipython",
    "version": 3
   },
   "file_extension": ".py",
   "mimetype": "text/x-python",
   "name": "python",
   "nbconvert_exporter": "python",
   "pygments_lexer": "ipython3",
   "version": "3.6.5"
  },
  "toc": {
   "base_numbering": 1,
   "nav_menu": {},
   "number_sections": true,
   "sideBar": true,
   "skip_h1_title": false,
   "title_cell": "Table of Contents",
   "title_sidebar": "Contents",
   "toc_cell": false,
   "toc_position": {},
   "toc_section_display": true,
   "toc_window_display": true
  }
 },
 "nbformat": 4,
 "nbformat_minor": 2
}

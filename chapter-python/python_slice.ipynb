{
 "cells": [
  {
   "cell_type": "markdown",
   "metadata": {},
   "source": [
    "# python切片操作\n",
    "\n",
    "- 通过slice类实现，slice(start, stop[, step])  选择范围：[start, stop) 左闭右开\n",
    "索引和切片都用[],方法用()\n"
   ]
  },
  {
   "cell_type": "code",
   "execution_count": 34,
   "metadata": {
    "ExecuteTime": {
     "end_time": "2018-06-01T14:34:42.528711Z",
     "start_time": "2018-06-01T14:34:42.523474Z"
    }
   },
   "outputs": [
    {
     "name": "stdout",
     "output_type": "stream",
     "text": [
      "使用 slice 类实现 :\n",
      " [2, 4]\n",
      "使用 ':' 实现: \n",
      " [2, 4]\n"
     ]
    }
   ],
   "source": [
    "L = [0,1,2,3,4,5,6,7,8,9]\n",
    "print('使用 slice 类实现 :\\n', L[slice(2,5,2)])\n",
    "print(\"使用 ':' 实现: \\n\", L[2:5:2])"
   ]
  },
  {
   "cell_type": "markdown",
   "metadata": {},
   "source": [
    "## list，tuple中的切片"
   ]
  },
  {
   "cell_type": "markdown",
   "metadata": {},
   "source": [
    "- 如果第一个索引是0，还可以省略, 到最后一个也可以省略，步长默认1"
   ]
  },
  {
   "cell_type": "code",
   "execution_count": 33,
   "metadata": {
    "ExecuteTime": {
     "end_time": "2018-06-01T14:18:53.577247Z",
     "start_time": "2018-06-01T14:18:53.573439Z"
    }
   },
   "outputs": [
    {
     "name": "stdout",
     "output_type": "stream",
     "text": [
      "起始位置为0，可以省略： [0, 1, 2]\n",
      "终止位置最后一个，可以省略： [3, 4, 5, 6, 7, 8, 9]\n"
     ]
    }
   ],
   "source": [
    "print('起始位置为0，可以省略：',L[:3])\n",
    "print('终止位置最后一个，可以省略：',L[3:])"
   ]
  },
  {
   "cell_type": "markdown",
   "metadata": {},
   "source": [
    "- 倒数索引-1代表最后一个位置索引，-2代表倒数第二个索引"
   ]
  },
  {
   "cell_type": "code",
   "execution_count": 26,
   "metadata": {
    "ExecuteTime": {
     "end_time": "2018-06-01T14:14:16.764161Z",
     "start_time": "2018-06-01T14:14:16.759248Z"
    }
   },
   "outputs": [
    {
     "name": "stdout",
     "output_type": "stream",
     "text": [
      "开始位置到倒数第二个： [0, 1, 2, 3, 4, 5, 6, 7]\n",
      "倒数第二个位置到最后： [8, 9]\n"
     ]
    }
   ],
   "source": [
    "print('开始位置到倒数第二个：',L[:-2])\n",
    "print('倒数第二个位置到最后：', L[-2:])"
   ]
  },
  {
   "cell_type": "markdown",
   "metadata": {},
   "source": [
    "- 步长设置, 默认1，可以自定义"
   ]
  },
  {
   "cell_type": "code",
   "execution_count": 32,
   "metadata": {
    "ExecuteTime": {
     "end_time": "2018-06-01T14:15:44.575238Z",
     "start_time": "2018-06-01T14:15:44.570836Z"
    }
   },
   "outputs": [
    {
     "name": "stdout",
     "output_type": "stream",
     "text": [
      "设定步长-2： [9, 7]\n",
      "起始位置到终止位置步长为2： [0, 2, 4, 6, 8]\n"
     ]
    }
   ],
   "source": [
    "print('设定步长-2：', L[-1:-5:-2])\n",
    "print('起始位置到终止位置步长为2：',L[::2])"
   ]
  },
  {
   "cell_type": "markdown",
   "metadata": {},
   "source": [
    "## Numpy中的切片操作"
   ]
  },
  {
   "cell_type": "markdown",
   "metadata": {
    "ExecuteTime": {
     "end_time": "2018-06-01T13:35:28.944315Z",
     "start_time": "2018-06-01T13:35:28.939525Z"
    }
   },
   "source": [
    "### numpy中的一维数组切片\n",
    "- Numpy 中多维数组的切片操作与 Python 中 list 的切片操作一样，同样由 start, stop, step 三个部分组成\n"
   ]
  },
  {
   "cell_type": "code",
   "execution_count": 4,
   "metadata": {
    "ExecuteTime": {
     "end_time": "2018-06-01T13:35:38.823389Z",
     "start_time": "2018-06-01T13:35:38.815167Z"
    }
   },
   "outputs": [
    {
     "name": "stdout",
     "output_type": "stream",
     "text": [
      "array is: [ 0  1  2  3  4  5  6  7  8  9 10 11]\n",
      "slice begins at 0 and ends at 4 is: [0 1 2 3]\n",
      "slice begins at 7 and ends at 10 is: [7 8 9]\n",
      "slice begins at 0 and ends at 12 with step 4 is: [0 4 8]\n"
     ]
    }
   ],
   "source": [
    "\n",
    "import numpy as np\n",
    "\n",
    "arr = np.arange(12)\n",
    "print('array is:', arr)\n",
    "\n",
    "slice_one = arr[:4]\n",
    "print('slice begins at 0 and ends at 4 is:', slice_one)\n",
    "\n",
    "slice_two = arr[7:10]\n",
    "print('slice begins at 7 and ends at 10 is:', slice_two)\n",
    "\n",
    "slice_three = arr[0:12:4]\n",
    "print('slice begins at 0 and ends at 12 with step 4 is:', slice_three)\n",
    "\n",
    "\n"
   ]
  },
  {
   "cell_type": "markdown",
   "metadata": {
    "ExecuteTime": {
     "end_time": "2018-06-01T13:38:25.217756Z",
     "start_time": "2018-06-01T13:38:25.214213Z"
    }
   },
   "source": [
    "### numpy 多维数组\n",
    "- 上述例子是一维数组的例子，如果是多维数组，将不同维度上的切片操作用 逗号 分开就好了"
   ]
  },
  {
   "cell_type": "code",
   "execution_count": 7,
   "metadata": {
    "ExecuteTime": {
     "end_time": "2018-06-01T13:40:33.645170Z",
     "start_time": "2018-06-01T13:40:33.638135Z"
    }
   },
   "outputs": [
    {
     "name": "stdout",
     "output_type": "stream",
     "text": [
      "array is:\n",
      " [[ 0  1  2  3]\n",
      " [ 4  5  6  7]\n",
      " [ 8  9 10 11]]\n",
      "first slice is:\n",
      " [[5 6]]\n",
      "second slice is:\n",
      " [[ 0  2]\n",
      " [ 4  6]\n",
      " [ 8 10]]\n"
     ]
    }
   ],
   "source": [
    "import numpy as np\n",
    "\n",
    "arr = np.arange(12).reshape((3, 4))\n",
    "print ('array is:\\n', arr)\n",
    "\n",
    "slice_one = arr[1:2, 1:3]\n",
    "print('first slice is:\\n', slice_one)\n",
    "\n",
    "slice_two = arr[:, ::2]\n",
    "print('second slice is:\\n',slice_two)\n"
   ]
  },
  {
   "cell_type": "markdown",
   "metadata": {},
   "source": [
    "## Pandas中的切片操作, 索引为左闭右闭\n",
    "- Python和NumPy索引运算符\"[]\"和属性运算符\".\"\n",
    "- 连续索引不能加中括号，间断索引必须有中括号\n",
    "- 如果按照标签索引推荐.loc不省略，‘:’也不省略，除非索引单列,否则容易引起混淆\n",
    "\n",
    "|语法|描述|\n",
    "|:--|:--|\n",
    "|.loc|根据标签索引|\n",
    "|.iloc|基于位置索引|\n",
    "|.ix| 混合索引|"
   ]
  },
  {
   "cell_type": "code",
   "execution_count": 42,
   "metadata": {
    "ExecuteTime": {
     "end_time": "2018-06-03T03:27:55.326694Z",
     "start_time": "2018-06-03T03:27:55.319104Z"
    }
   },
   "outputs": [
    {
     "name": "stdout",
     "output_type": "stream",
     "text": [
      "          A        BB         C         D\n",
      "A  1.040369  1.414435 -0.293069 -0.591653\n",
      "b -0.791071  0.679128 -1.375184  0.661488\n",
      "c  0.180464 -0.139289  0.196473  1.309078\n",
      "d -0.773794  0.403391  1.516154 -0.535537\n",
      "e -0.552546 -0.701777  0.187311 -2.197601\n",
      "f  1.835848 -1.976343 -0.233643 -0.501942\n",
      "g -1.407339 -0.678665  0.638208  1.161756\n",
      "h -0.912836  0.569487  0.622114 -0.695103\n"
     ]
    }
   ],
   "source": [
    "import pandas as pd\n",
    "import numpy as np\n",
    "\n",
    "df = pd.DataFrame(np.random.randn(8, 4),\n",
    "index = ['A','b','c','d','e','f','g','h'], columns = ['A', 'BB', 'C', 'D'])\n",
    "print(df)"
   ]
  },
  {
   "cell_type": "markdown",
   "metadata": {},
   "source": [
    "### .loc标签单列所有行索引"
   ]
  },
  {
   "cell_type": "code",
   "execution_count": 43,
   "metadata": {
    "ExecuteTime": {
     "end_time": "2018-06-03T03:28:05.208342Z",
     "start_time": "2018-06-03T03:28:05.201147Z"
    }
   },
   "outputs": [
    {
     "name": "stdout",
     "output_type": "stream",
     "text": [
      "单列索引返回dataframe:\n",
      " <class 'pandas.core.frame.DataFrame'>\n",
      "单列索引返回series:\n",
      " <class 'pandas.core.series.Series'>\n",
      "单列索引返回series:\n",
      " <class 'pandas.core.series.Series'>\n",
      "单列索引返回series:\n",
      " <class 'pandas.core.series.Series'>\n",
      "单列索引返回dateframe:\n",
      " <class 'pandas.core.frame.DataFrame'>\n"
     ]
    }
   ],
   "source": [
    "print('单列索引返回dataframe:\\n',type(df.loc[:,['A']]))   #返回的是DataFrame 推荐\n",
    "\n",
    "print('单列索引返回series:\\n',type(df.loc[:,'A']))   #返回的是series 推荐\n",
    "\n",
    "print('单列索引返回series:\\n',type(df.A))   #返回的是series #推荐\n",
    "\n",
    "print('单列索引返回series:\\n',type(df['A']))   #返回的是series\n",
    "\n",
    "print('单列索引返回dateframe:\\n',type(df[['A']]))   #返回的是series"
   ]
  },
  {
   "cell_type": "markdown",
   "metadata": {},
   "source": [
    "### .loc标签多列索引\n"
   ]
  },
  {
   "cell_type": "code",
   "execution_count": 49,
   "metadata": {
    "ExecuteTime": {
     "end_time": "2018-06-03T03:32:50.336212Z",
     "start_time": "2018-06-03T03:32:50.323983Z"
    }
   },
   "outputs": [
    {
     "name": "stdout",
     "output_type": "stream",
     "text": [
      "连续多列索引:\n",
      "           A        BB         C\n",
      "A  1.040369  1.414435 -0.293069\n",
      "b -0.791071  0.679128 -1.375184\n",
      "c  0.180464 -0.139289  0.196473\n",
      "d -0.773794  0.403391  1.516154\n",
      "e -0.552546 -0.701777  0.187311\n",
      "f  1.835848 -1.976343 -0.233643\n",
      "g -1.407339 -0.678665  0.638208\n",
      "h -0.912836  0.569487  0.622114 \n",
      "\n",
      "间断多列索引:\n",
      "           A         C\n",
      "A  1.040369 -0.293069\n",
      "b -0.791071 -1.375184\n",
      "c  0.180464  0.196473\n",
      "d -0.773794  1.516154\n",
      "e -0.552546  0.187311\n",
      "f  1.835848 -0.233643\n",
      "g -1.407339  0.638208\n",
      "h -0.912836  0.622114 \n",
      "\n",
      "索引所有行，能省略'.loc'和':':\n",
      "           A         C\n",
      "A  1.040369 -0.293069\n",
      "b -0.791071 -1.375184\n",
      "c  0.180464  0.196473\n",
      "d -0.773794  1.516154\n",
      "e -0.552546  0.187311\n",
      "f  1.835848 -0.233643\n",
      "g -1.407339  0.638208\n",
      "h -0.912836  0.622114 \n",
      "\n"
     ]
    }
   ],
   "source": [
    "\n",
    "print('连续多列索引:\\n',df.loc[:,'A':'C'],'\\n')   #返回的是DataFrame\n",
    "\n",
    "print('间断多列索引:\\n',df.loc[:,['A','C']], '\\n')   #返回的是DataFrame\n",
    "\n",
    "print(\"索引所有行，能省略'.loc'和':':\\n\",df[['A','C']],'\\n')   #返回的是DataFrame #不推荐\n",
    "\n"
   ]
  },
  {
   "cell_type": "markdown",
   "metadata": {},
   "source": [
    "### loc单行多行索引"
   ]
  },
  {
   "cell_type": "code",
   "execution_count": 45,
   "metadata": {
    "ExecuteTime": {
     "end_time": "2018-06-03T03:28:09.881748Z",
     "start_time": "2018-06-03T03:28:09.869038Z"
    }
   },
   "outputs": [
    {
     "name": "stdout",
     "output_type": "stream",
     "text": [
      "单行全部列索引返回series：\n",
      " A     1.040369\n",
      "BB    1.414435\n",
      "C    -0.293069\n",
      "D    -0.591653\n",
      "Name: A, dtype: float64 \n",
      "\n",
      "单行全部列索引返回series：\n",
      " A     1.040369\n",
      "BB    1.414435\n",
      "C    -0.293069\n",
      "D    -0.591653\n",
      "Name: A, dtype: float64 \n",
      "\n",
      "单行全部列索引返回dataframe：\n",
      "           A        BB         C         D\n",
      "A  1.040369  1.414435 -0.293069 -0.591653 \n",
      "\n",
      "单行全部列索引返回dataframe：\n",
      "           A        BB         C         D\n",
      "A  1.040369  1.414435 -0.293069 -0.591653 \n",
      "\n"
     ]
    }
   ],
   "source": [
    "print('单行全部列索引返回series：\\n', df.loc['A',:],'\\n')  #推荐\n",
    "print('单行全部列索引返回series：\\n', df.loc['A'],'\\n')\n",
    "\n",
    "print('单行全部列索引返回dataframe：\\n', df.loc[['A'],:],'\\n') #推荐\n",
    "print('单行全部列索引返回dataframe：\\n', df.loc[['A']],'\\n')\n"
   ]
  },
  {
   "cell_type": "markdown",
   "metadata": {
    "ExecuteTime": {
     "end_time": "2018-06-03T03:00:10.172265Z",
     "start_time": "2018-06-03T03:00:10.166312Z"
    }
   },
   "source": [
    "### loc 多行全部列索引"
   ]
  },
  {
   "cell_type": "code",
   "execution_count": 56,
   "metadata": {
    "ExecuteTime": {
     "end_time": "2018-06-03T03:40:41.122590Z",
     "start_time": "2018-06-03T03:40:41.105148Z"
    }
   },
   "outputs": [
    {
     "name": "stdout",
     "output_type": "stream",
     "text": [
      "df.loc['A':'c', :],多行连续索引不省略',:'：\n",
      "           A        BB         C         D\n",
      "A  1.040369  1.414435 -0.293069 -0.591653\n",
      "b -0.791071  0.679128 -1.375184  0.661488\n",
      "c  0.180464 -0.139289  0.196473  1.309078 \n",
      "\n",
      "df['A':'c'],多行连续索引,省略 '.loc',':'：\n",
      "           A        BB         C         D\n",
      "A  1.040369  1.414435 -0.293069 -0.591653\n",
      "b -0.791071  0.679128 -1.375184  0.661488\n",
      "c  0.180464 -0.139289  0.196473  1.309078 \n",
      "\n",
      "df.loc['A':'c'],多行连续索引：\n",
      "           A        BB         C         D\n",
      "A  1.040369  1.414435 -0.293069 -0.591653\n",
      "b -0.791071  0.679128 -1.375184  0.661488\n",
      "c  0.180464 -0.139289  0.196473  1.309078 \n",
      "\n",
      "df.loc[['A','c','h']],多行间断索引：\n",
      "           A        BB         C         D\n",
      "A  1.040369  1.414435 -0.293069 -0.591653\n",
      "c  0.180464 -0.139289  0.196473  1.309078\n",
      "h -0.912836  0.569487  0.622114 -0.695103 \n",
      "\n"
     ]
    }
   ],
   "source": [
    "print(\"df.loc['A':'c', :],多行连续索引不省略',:'：\\n\",df.loc['A':'c', :],'\\n')\n",
    "\n",
    "print(\"df['A':'c'],多行连续索引,省略 '.loc',':'：\\n\",df['A':'c'],'\\n')\n",
    "\n",
    "print(\"df.loc['A':'c'],多行连续索引：\\n\",df.loc['A':'c'],'\\n')\n",
    "\n",
    "print(\"df.loc[['A','c','h']],多行间断索引：\\n\",df.loc[['A','c','h']],'\\n')\n"
   ]
  },
  {
   "cell_type": "markdown",
   "metadata": {},
   "source": [
    "### .loc多行多列索引"
   ]
  },
  {
   "cell_type": "code",
   "execution_count": 52,
   "metadata": {
    "ExecuteTime": {
     "end_time": "2018-06-03T03:36:33.165160Z",
     "start_time": "2018-06-03T03:36:33.155087Z"
    }
   },
   "outputs": [
    {
     "name": "stdout",
     "output_type": "stream",
     "text": [
      "连续多行多列索引：\n",
      "           A        BB         C\n",
      "A  1.040369  1.414435 -0.293069\n",
      "b -0.791071  0.679128 -1.375184\n",
      "c  0.180464 -0.139289  0.196473\n",
      "d -0.773794  0.403391  1.516154\n",
      "e -0.552546 -0.701777  0.187311\n",
      "f  1.835848 -1.976343 -0.233643\n",
      "g -1.407339 -0.678665  0.638208\n",
      "h -0.912836  0.569487  0.622114 \n",
      "\n",
      "间断多行多列索引：\n",
      "           A         C\n",
      "A  1.040369 -0.293069\n",
      "h -0.912836  0.622114 \n",
      "\n"
     ]
    }
   ],
   "source": [
    "print('连续多行多列索引：\\n', df.loc['A':'h','A':'C'],'\\n')\n",
    "print('间断多行多列索引：\\n', df.loc[['A','h'],['A','C']],'\\n')"
   ]
  },
  {
   "cell_type": "code",
   "execution_count": null,
   "metadata": {},
   "outputs": [],
   "source": []
  }
 ],
 "metadata": {
  "kernelspec": {
   "display_name": "Python 3",
   "language": "python",
   "name": "python3"
  },
  "language_info": {
   "codemirror_mode": {
    "name": "ipython",
    "version": 3
   },
   "file_extension": ".py",
   "mimetype": "text/x-python",
   "name": "python",
   "nbconvert_exporter": "python",
   "pygments_lexer": "ipython3",
   "version": "3.6.5"
  },
  "toc": {
   "base_numbering": 1,
   "nav_menu": {},
   "number_sections": true,
   "sideBar": true,
   "skip_h1_title": false,
   "title_cell": "Table of Contents",
   "title_sidebar": "Contents",
   "toc_cell": false,
   "toc_position": {},
   "toc_section_display": true,
   "toc_window_display": true
  }
 },
 "nbformat": 4,
 "nbformat_minor": 2
}

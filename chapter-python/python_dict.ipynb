{
 "cells": [
  {
   "cell_type": "markdown",
   "metadata": {},
   "source": [
    "# python dict学习笔记\n"
   ]
  },
  {
   "cell_type": "markdown",
   "metadata": {},
   "source": [
    "## dict.setdefault(key, default=None)\n",
    "\n",
    "- 描述：\n",
    "\n",
    "&emsp;&emsp; *Python 字典 setdefault() 函数和get() 方法类似, 如果键不存在于字典中，将会添加键并将值设为默认值。*\n",
    "\n",
    "- 备注：\n",
    "\n",
    "&emsp;&emsp;与get()相同点：如果key存在，返回对应value，如果不存在，返回设定的值\n",
    "\n",
    "&emsp;&emsp;与get()不同点：如果key不存在，setdefault()更新dict，get()不更新dict\n",
    "\n",
    "- 参考链接：\n",
    "\n",
    "&emsp;&emsp;http://www.runoob.com/python/att-dictionary-get.html\n",
    "\n",
    "&emsp;&emsp;http://www.runoob.com/python/att-dictionary-setdefault.html\n",
    "\n",
    "- 示例："
   ]
  },
  {
   "cell_type": "code",
   "execution_count": 6,
   "metadata": {
    "ExecuteTime": {
     "end_time": "2018-05-28T10:24:49.967171Z",
     "start_time": "2018-05-28T10:24:49.962255Z"
    }
   },
   "outputs": [
    {
     "name": "stdout",
     "output_type": "stream",
     "text": [
      "Value :  菜鸟教程\n",
      "Value :  淘宝\n",
      "new dict:  {'runoob': '菜鸟教程', 'google': 'Google 搜索', 'Taobao': '淘宝'}\n"
     ]
    }
   ],
   "source": [
    "dict = {'runoob': '菜鸟教程', 'google': 'Google 搜索'}\n",
    "print(\"Value : \" , dict.setdefault('runoob', None))\n",
    "print(\"Value : \" , dict.setdefault('Taobao', '淘宝'))\n",
    "print(\"new dict: \", dict)"
   ]
  },
  {
   "cell_type": "code",
   "execution_count": 7,
   "metadata": {
    "ExecuteTime": {
     "end_time": "2018-05-28T10:24:50.496818Z",
     "start_time": "2018-05-28T10:24:50.492291Z"
    }
   },
   "outputs": [
    {
     "name": "stdout",
     "output_type": "stream",
     "text": [
      "Value : 菜鸟教程\n",
      "Value : Never\n",
      "new dict is:  {'runoob': '菜鸟教程', 'google': 'Google 搜索'}\n"
     ]
    }
   ],
   "source": [
    "dict = {'runoob': '菜鸟教程', 'google': 'Google 搜索'}\n",
    "print(\"Value : %s\" %  dict.get('runoob'))\n",
    "print(\"Value : %s\" %  dict.get('baidu', \"Never\"))\n",
    "print(\"new dict is: \", dict)"
   ]
  },
  {
   "cell_type": "markdown",
   "metadata": {},
   "source": [
    "## update更新字典\n",
    "\n",
    "- 描述：\n",
    "\n",
    "&emsp;&emsp; 增加字典，或更改字典key对应的value\n",
    "\n",
    "- 示例："
   ]
  },
  {
   "cell_type": "code",
   "execution_count": 13,
   "metadata": {
    "ExecuteTime": {
     "end_time": "2018-05-28T10:31:21.078691Z",
     "start_time": "2018-05-28T10:31:21.073728Z"
    }
   },
   "outputs": [
    {
     "name": "stdout",
     "output_type": "stream",
     "text": [
      "dict after update :\n",
      "\n",
      " {'n_estimators': 1000, 'max_leaf_nodes': 2, 'min_samples_split': 5, 'learning_rate': 0.1}\n"
     ]
    }
   ],
   "source": [
    "original_params = {'n_estimators': 1000, 'max_leaf_nodes': 4, \n",
    "                   'min_samples_split': 5}\n",
    "params = original_params\n",
    "setting  = {'learning_rate': 0.1, 'max_leaf_nodes': 2}\n",
    "params.update(setting)\n",
    "print('dict after update :\\n\\n',params)"
   ]
  }
 ],
 "metadata": {
  "kernelspec": {
   "display_name": "Python 3",
   "language": "python",
   "name": "python3"
  },
  "language_info": {
   "codemirror_mode": {
    "name": "ipython",
    "version": 3
   },
   "file_extension": ".py",
   "mimetype": "text/x-python",
   "name": "python",
   "nbconvert_exporter": "python",
   "pygments_lexer": "ipython3",
   "version": "3.6.6"
  },
  "toc": {
   "base_numbering": 1,
   "nav_menu": {},
   "number_sections": true,
   "sideBar": true,
   "skip_h1_title": false,
   "title_cell": "Table of Contents",
   "title_sidebar": "Contents",
   "toc_cell": false,
   "toc_position": {},
   "toc_section_display": true,
   "toc_window_display": true
  }
 },
 "nbformat": 4,
 "nbformat_minor": 2
}

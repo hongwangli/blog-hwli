{
 "cells": [
  {
   "cell_type": "markdown",
   "metadata": {},
   "source": [
    "# python pandas学习笔记"
   ]
  },
  {
   "cell_type": "markdown",
   "metadata": {},
   "source": [
    "## reshape   \n",
    "- 描述：\n",
    "\n",
    "&emsp;&emsp;  *更改dataframe的数据维度*\n",
    "\n",
    "- 备注：\n",
    "\n",
    "&emsp;&emsp; -1 代表指定后剩余的\n",
    "\n",
    "&emsp;&emsp; numpy和dataframe使用方法类似\n",
    "\n",
    "- 示例："
   ]
  },
  {
   "cell_type": "code",
   "execution_count": 10,
   "metadata": {
    "ExecuteTime": {
     "end_time": "2018-05-28T09:14:19.250445Z",
     "start_time": "2018-05-28T09:14:19.244849Z"
    }
   },
   "outputs": [
    {
     "name": "stdout",
     "output_type": "stream",
     "text": [
      "shape of array:\n",
      " (12,)\n",
      "shape of array_reshape: \n",
      " (3, 4)\n",
      "shape of array_shape_1:\n",
      " (4, 3)\n"
     ]
    }
   ],
   "source": [
    "import numpy as np\n",
    "array = np.array(np.arange(12))\n",
    "print('shape of array:\\n', array.shape)\n",
    "array_reshape = array.reshape(3,4)\n",
    "print('shape of array_reshape: \\n', array_reshape.shape)\n",
    "\n",
    "array_reshape_1 = array.reshape(4,-1)\n",
    "print('shape of array_shape_1:\\n', array_reshape_1.shape)\n"
   ]
  },
  {
   "cell_type": "markdown",
   "metadata": {},
   "source": [
    "## pandas.Index, columns, set_names\n",
    "\n",
    "- 描述：\n",
    "\n",
    "&emsp;&emsp; index:指定行索引\n",
    "\n",
    "&emsp;&emsp; columns:指定列索引，并指定行索引列名\n",
    "\n",
    "- 参考链接：\n",
    "\n",
    "https://pandas.pydata.org/pandas-docs/stable/generated/pandas.Index.html\n",
    "\n",
    "http://pandas.pydata.org/pandas-docs/stable/generated/pandas.Index.set_names.html\n",
    "\n",
    "- 示例："
   ]
  },
  {
   "cell_type": "code",
   "execution_count": 29,
   "metadata": {
    "ExecuteTime": {
     "end_time": "2018-05-28T10:10:45.172590Z",
     "start_time": "2018-05-28T10:10:45.160788Z"
    }
   },
   "outputs": [
    {
     "name": "stdout",
     "output_type": "stream",
     "text": [
      "df:\n",
      " index_name  a  b   c   d\n",
      "A           0  1   2   3\n",
      "B           4  5   6   7\n",
      "C           8  9  10  11\n",
      "columns after rename :\n",
      " Index(['a_r', 'b_r', 'c_r', 'd_r'], dtype='object')\n",
      "rename index name :\n",
      "               a_r  b_r  c_r  d_r\n",
      "index_rename                    \n",
      "A               0    1    2    3\n",
      "B               4    5    6    7\n",
      "C               8    9   10   11\n"
     ]
    }
   ],
   "source": [
    "import pandas as pd\n",
    "b = np.array(np.arange(12)).reshape(3,4)\n",
    "df = pd.DataFrame(b, index = ['A','B','C'], \n",
    "             columns = pd.Index(['a','b','c','d']\n",
    "                                ,name = 'index_name'))\n",
    "print('df:\\n',df)\n",
    "\n",
    "df.columns = ['a_r','b_r','c_r','d_r']\n",
    "print('columns after rename :\\n',df.columns)\n",
    "\n",
    "df.index.set_names('index_rename', inplace = True)\n",
    "print('rename index name :\\n', df)"
   ]
  },
  {
   "cell_type": "markdown",
   "metadata": {},
   "source": [
    "## python2  pandas连接mysql\n",
    "\n",
    "```python\n",
    "import MySQLdb\n",
    "conn=MySQLdb.connect(host= host, user = username, passwd=password, \n",
    "                    port = port, db = db, charset='utf-8')\n",
    "df = pd.read_sql(sql, conn, index_col=\"id\")\n",
    "```"
   ]
  },
  {
   "cell_type": "code",
   "execution_count": null,
   "metadata": {},
   "outputs": [],
   "source": []
  }
 ],
 "metadata": {
  "kernelspec": {
   "display_name": "Python 3",
   "language": "python",
   "name": "python3"
  },
  "language_info": {
   "codemirror_mode": {
    "name": "ipython",
    "version": 3
   },
   "file_extension": ".py",
   "mimetype": "text/x-python",
   "name": "python",
   "nbconvert_exporter": "python",
   "pygments_lexer": "ipython3",
   "version": "3.6.5"
  },
  "toc": {
   "base_numbering": 1,
   "nav_menu": {},
   "number_sections": true,
   "sideBar": true,
   "skip_h1_title": false,
   "title_cell": "Table of Contents",
   "title_sidebar": "Contents",
   "toc_cell": false,
   "toc_position": {},
   "toc_section_display": true,
   "toc_window_display": true
  }
 },
 "nbformat": 4,
 "nbformat_minor": 2
}

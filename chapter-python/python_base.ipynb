{
 "cells": [
  {
   "cell_type": "markdown",
   "metadata": {},
   "source": [
    "# python 基础知识学习笔记"
   ]
  },
  {
   "cell_type": "markdown",
   "metadata": {},
   "source": [
    "## 1、os.listdir(path)  \n",
    "- 描述：\n",
    "\n",
    "&emsp;&emsp;  *返回path目录下的文件名和文件夹名*\n",
    "\n",
    "- 参数：\n",
    "\n",
    "&emsp;&emsp;path:输入&emsp;目录\n",
    "\n",
    "- 示例："
   ]
  },
  {
   "cell_type": "code",
   "execution_count": 1,
   "metadata": {
    "ExecuteTime": {
     "end_time": "2018-05-29T11:28:15.132543Z",
     "start_time": "2018-05-29T11:28:15.128295Z"
    },
    "attributes": {
     "classes": [],
     "id": "",
     "n": "1"
    }
   },
   "outputs": [
    {
     "name": "stdout",
     "output_type": "stream",
     "text": [
      "['fm_sg_cloud_cache.v0.filemap.sogouime_2.9.70580_00000000_501', '.keystone_install_lock', 'powerlog', 'escalatelantern.ico', 'com.sogou.inputmethod.qq', 'com.apple.launchd.uhHN3iO6E8', 'com.apple.launchd.YMiSho5zW2']\n"
     ]
    }
   ],
   "source": [
    "import os\n",
    "c_files = os.listdir('/tmp')\n",
    "print(c_files)"
   ]
  },
  {
   "cell_type": "markdown",
   "metadata": {},
   "source": [
    "## str1.split(str=\"\", num=string.count(str))\n",
    "\n",
    "- 描述：\n",
    "\n",
    "&emsp;&emsp;*Python split()通过指定分隔符对字符串进行切片，如果参数 num 有指定值，则仅分隔 num 个子字符串*\n",
    "\n",
    " \n",
    "- 参数：\n",
    "\n",
    "&emsp;&emsp;str：分隔符，默认为所有的空字符，包括空格、换行、制表符 等\n",
    "  \n",
    "&emsp;&emsp;num：分割的次数\n",
    "\n",
    " \n",
    "- 参考链接\n",
    "\n",
    "&emsp;&emsp;http://www.runoob.com/python/att-string-split.html\n",
    "\n",
    "- 示例："
   ]
  },
  {
   "cell_type": "code",
   "execution_count": 2,
   "metadata": {
    "ExecuteTime": {
     "end_time": "2018-05-29T11:28:17.371521Z",
     "start_time": "2018-05-29T11:28:17.367146Z"
    },
    "attributes": {
     "classes": [],
     "id": "",
     "n": "4"
    }
   },
   "outputs": [
    {
     "name": "stdout",
     "output_type": "stream",
     "text": [
      "['Line1-abcdef', 'Line2-abc', 'Line4-abcd']\n",
      "['Line1-abcdef', '\\nLine2-abc \\nLine4-abcd']\n"
     ]
    }
   ],
   "source": [
    "str = \"Line1-abcdef \\nLine2-abc \\nLine4-abcd\";\n",
    "print(str.split( ));\n",
    "print(str.split(' ', 1 ));"
   ]
  },
  {
   "cell_type": "markdown",
   "metadata": {},
   "source": [
    "## re.split(pattern, string, maxsplit=0, flags=0)\n",
    "\n",
    "- 描述：\n",
    "\n",
    "&emsp;&emsp;*对字符串按照正则表达式匹配的分割*\n",
    "\n",
    "- 参数：\n",
    "\n",
    "&emsp;&emsp;pattern：正则表达式\n",
    " \n",
    "&emsp;&emsp;string：待分割字符\n",
    "\n",
    "\n",
    "- 参考链接：\n",
    "\n",
    "&emsp;&emsp;https://docs.python.org/3/library/re.html\n",
    "\n",
    "- 示例："
   ]
  },
  {
   "cell_type": "code",
   "execution_count": 3,
   "metadata": {
    "ExecuteTime": {
     "end_time": "2018-05-29T11:31:43.058419Z",
     "start_time": "2018-05-29T11:31:43.054085Z"
    },
    "attributes": {
     "classes": [],
     "id": "",
     "n": "5"
    }
   },
   "outputs": [
    {
     "name": "stdout",
     "output_type": "stream",
     "text": [
      "['Beautiful', ' is', 'better', 'than', 'ugly']\n"
     ]
    }
   ],
   "source": [
    "import re\n",
    "a='Beautiful, is; better*than\\nugly'\n",
    "# 四个分隔符为：,  ;  *  \\n\n",
    "x= re.split(',|; |\\*|\\n',a)\n",
    "print(x)"
   ]
  },
  {
   "cell_type": "markdown",
   "metadata": {},
   "source": [
    "## enumerate(sequence, [start=0)\n",
    "\n",
    "- 描述：\n",
    "\n",
    "&emsp;&emsp;*enumerate() 函数用于将一个可遍历的数据对象(如列表、元组或字符串)组合为一个索引序列，同时列出数据和数据下标，一般用在 for 循环当中。*\n",
    "\n",
    "- 参数：\n",
    "\n",
    "&emsp;&emsp;sequence : 可遍历的数据对象(如列表、元组或字符串)\n",
    " \n",
    "&emsp;&emsp;start : 索引开始的值\n",
    "\n",
    "\n",
    "- 参考链接：\n",
    "\n",
    "&emsp;&emsp;http://www.runoob.com/python/python-func-enumerate.html\n",
    "\n",
    "- 示例："
   ]
  },
  {
   "cell_type": "code",
   "execution_count": 6,
   "metadata": {
    "ExecuteTime": {
     "end_time": "2018-06-01T13:13:13.368185Z",
     "start_time": "2018-06-01T13:13:13.363753Z"
    }
   },
   "outputs": [
    {
     "name": "stdout",
     "output_type": "stream",
     "text": [
      "2 Spring\n",
      "3 Summer\n",
      "4 Fall\n",
      "5 Winter\n"
     ]
    }
   ],
   "source": [
    "for i, season in enumerate(['Spring', 'Summer', 'Fall', 'Winter'],start = 2):\n",
    "    print(i,season)"
   ]
  },
  {
   "cell_type": "code",
   "execution_count": null,
   "metadata": {},
   "outputs": [],
   "source": []
  }
 ],
 "metadata": {
  "kernelspec": {
   "display_name": "Python 3",
   "language": "python",
   "name": "python3"
  },
  "language_info": {
   "codemirror_mode": {
    "name": "ipython",
    "version": 3
   },
   "file_extension": ".py",
   "mimetype": "text/x-python",
   "name": "python",
   "nbconvert_exporter": "python",
   "pygments_lexer": "ipython3",
   "version": "3.6.5"
  },
  "toc": {
   "base_numbering": 1,
   "nav_menu": {},
   "number_sections": true,
   "sideBar": true,
   "skip_h1_title": false,
   "title_cell": "Table of Contents",
   "title_sidebar": "Contents",
   "toc_cell": false,
   "toc_position": {},
   "toc_section_display": true,
   "toc_window_display": true
  }
 },
 "nbformat": 4,
 "nbformat_minor": 2
}

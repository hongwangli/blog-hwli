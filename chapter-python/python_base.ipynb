{
 "cells": [
  {
   "cell_type": "markdown",
   "metadata": {},
   "source": [
    "### 1、os.listdir(path)  \n",
    "- 描述：\n",
    "\n",
    "&emsp;&emsp;  *返回path目录下的文件名和文件夹名*\n",
    "\n",
    "- 参数：\n",
    "\n",
    "&emsp;&emsp;path:输入&emsp;目录\n",
    "\n",
    "- 示例："
   ]
  },
  {
   "cell_type": "code",
   "execution_count": 1,
   "metadata": {
    "ExecuteTime": {
     "end_time": "2018-05-22T06:28:17.588812Z",
     "start_time": "2018-05-22T06:28:17.585009Z"
    },
    "attributes": {
     "classes": [],
     "id": "",
     "n": "1"
    }
   },
   "outputs": [
    {
     "name": "stdout",
     "output_type": "stream",
     "text": [
      "['fm_sg_cloud_cache.v0.filemap.sogouime_2.9.70580_00000000_501', '.keystone_install_lock', 'powerlog', 'com.apple.launchd.gIYetsdekL', 'escalatelantern.ico', 'com.sogou.inputmethod.qq', 'com.apple.launchd.BacPaf5EXH']\n"
     ]
    }
   ],
   "source": [
    "import os\n",
    "c_files = os.listdir('/tmp')\n",
    "print(c_files)"
   ]
  },
  {
   "cell_type": "markdown",
   "metadata": {},
   "source": [
    "###  dict.setdefault(key, default=None)\n",
    "- 描述：\n",
    "\n",
    "&emsp;&emsp; *Python 字典 setdefault()\n",
    "函数和get() 方法类似, 如果键不存在于字典中，将会添加键并将值设为默认值。*\n",
    "\n",
    "- 备注：\n",
    " \n",
    "&emsp;&emsp; 与get()相同点：如果key存在，返回对应value，如果不存在，返回设定的值\n",
    "\n",
    "&emsp;&emsp; 与get()不同点：如果key不存在，setdefault()更新dict，get()不更新dict\n",
    " \n",
    "- 参考链接：\n",
    "\n",
    "&emsp;&emsp;http://www.runoob.com/python/att-dictionary-get.html\n",
    "\n",
    "&emsp;&emsp;http://www.runoob.com/python/att-dictionary-setdefault.html\n",
    "\n",
    "- 示例："
   ]
  },
  {
   "cell_type": "code",
   "execution_count": 2,
   "metadata": {
    "ExecuteTime": {
     "end_time": "2018-05-22T06:28:17.596014Z",
     "start_time": "2018-05-22T06:28:17.591319Z"
    },
    "attributes": {
     "classes": [],
     "id": "",
     "n": "2"
    }
   },
   "outputs": [
    {
     "name": "stdout",
     "output_type": "stream",
     "text": [
      "Value :  菜鸟教程\n",
      "Value :  淘宝\n",
      "new dict:  {'runoob': '菜鸟教程', 'google': 'Google 搜索', 'Taobao': '淘宝'}\n"
     ]
    }
   ],
   "source": [
    "dict = {'runoob': '菜鸟教程', 'google': 'Google 搜索'}\n",
    "print(\"Value : \" , dict.setdefault('runoob', None))\n",
    "print(\"Value : \" , dict.setdefault('Taobao', '淘宝'))\n",
    "print(\"new dict: \", dict)\n"
   ]
  },
  {
   "cell_type": "code",
   "execution_count": 3,
   "metadata": {
    "ExecuteTime": {
     "end_time": "2018-05-22T06:28:17.602874Z",
     "start_time": "2018-05-22T06:28:17.598956Z"
    },
    "attributes": {
     "classes": [],
     "id": "",
     "n": "3"
    }
   },
   "outputs": [
    {
     "name": "stdout",
     "output_type": "stream",
     "text": [
      "Value : 菜鸟教程\n",
      "Value : Never\n",
      "new dict is:  {'runoob': '菜鸟教程', 'google': 'Google 搜索'}\n"
     ]
    }
   ],
   "source": [
    "dict = {'runoob': '菜鸟教程', 'google': 'Google 搜索'}\n",
    "print(\"Value : %s\" %  dict.get('runoob'))\n",
    "print(\"Value : %s\" %  dict.get('baidu', \"Never\"))\n",
    "print(\"new dict is: \", dict)"
   ]
  },
  {
   "cell_type": "markdown",
   "metadata": {},
   "source": [
    "### str1.split(str=\"\", num=string.count(str))\n",
    "\n",
    "- 描述：\n",
    "\n",
    "&emsp;&emsp;*Python split()通过指定分隔符对字符串进行切片，如果参数 num 有指定值，则仅分隔 num 个子字符串*\n",
    "\n",
    " \n",
    "- 参数：\n",
    "\n",
    "&emsp;&emsp;str：分隔符，默认为所有的空字符，包括空格、换行、制表符 等\n",
    "  \n",
    "&emsp;&emsp;num：分割的次数\n",
    "\n",
    " \n",
    "- 参考链接\n",
    "\n",
    "&emsp;&emsp;http://www.runoob.com/python/att-string-split.html\n",
    "\n",
    "- 示例："
   ]
  },
  {
   "cell_type": "code",
   "execution_count": 4,
   "metadata": {
    "ExecuteTime": {
     "end_time": "2018-05-22T06:28:17.609064Z",
     "start_time": "2018-05-22T06:28:17.605410Z"
    },
    "attributes": {
     "classes": [],
     "id": "",
     "n": "4"
    }
   },
   "outputs": [
    {
     "name": "stdout",
     "output_type": "stream",
     "text": [
      "['Line1-abcdef', 'Line2-abc', 'Line4-abcd']\n",
      "['Line1-abcdef', '\\nLine2-abc \\nLine4-abcd']\n"
     ]
    }
   ],
   "source": [
    "str = \"Line1-abcdef \\nLine2-abc \\nLine4-abcd\";\n",
    "print(str.split( ));\n",
    "print(str.split(' ', 1 ));"
   ]
  },
  {
   "cell_type": "markdown",
   "metadata": {},
   "source": [
    "### re.split(pattern, string, maxsplit=0, flags=0)\n",
    "\n",
    "- 描述：\n",
    "\n",
    "&emsp;&emsp;*对字符串按照正则表达式匹配的分割*\n",
    "\n",
    "- 参数：\n",
    "\n",
    "&emsp;&emsp;pattern：正则表达式\n",
    " \n",
    "&emsp;&emsp;string：待分割字符\n",
    "\n",
    "\n",
    "- 参考链接：\n",
    "\n",
    "&emsp;&emsp;https://docs.python.org/3/library/re.html\n",
    "\n",
    "- 示例："
   ]
  },
  {
   "cell_type": "code",
   "execution_count": 5,
   "metadata": {
    "ExecuteTime": {
     "end_time": "2018-05-22T06:28:17.616267Z",
     "start_time": "2018-05-22T06:28:17.612388Z"
    },
    "attributes": {
     "classes": [],
     "id": "",
     "n": "5"
    }
   },
   "outputs": [
    {
     "name": "stdout",
     "output_type": "stream",
     "text": [
      "['Beautiful', ' is', 'better', 'than', 'ugly']\n"
     ]
    }
   ],
   "source": [
    "import re\n",
    "a='Beautiful, is; better*than\\nugly'\n",
    "# 四个分隔符为：,  ;  *  \\n\n",
    "x= re.split(',|; |\\*|\\n',a)\n",
    "print(x)"
   ]
  },
  {
   "cell_type": "markdown",
   "metadata": {},
   "source": [
    "### 自动构建测试\n"
   ]
  },
  {
   "cell_type": "code",
   "execution_count": null,
   "metadata": {},
   "outputs": [],
   "source": []
  }
 ],
 "metadata": {
  "kernelspec": {
   "display_name": "Python 3",
   "language": "python",
   "name": "python3"
  },
  "language_info": {
   "codemirror_mode": {
    "name": "ipython",
    "version": 3
   },
   "file_extension": ".py",
   "mimetype": "text/x-python",
   "name": "python",
   "nbconvert_exporter": "python",
   "pygments_lexer": "ipython3",
   "version": "3.6.5"
  },
  "toc": {
   "base_numbering": 1,
   "nav_menu": {},
   "number_sections": true,
   "sideBar": true,
   "skip_h1_title": false,
   "title_cell": "Table of Contents",
   "title_sidebar": "Contents",
   "toc_cell": false,
   "toc_position": {},
   "toc_section_display": true,
   "toc_window_display": true
  }
 },
 "nbformat": 4,
 "nbformat_minor": 2
}
